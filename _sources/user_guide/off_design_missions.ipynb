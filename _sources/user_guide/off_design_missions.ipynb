{
 "cells": [
  {
   "cell_type": "markdown",
   "metadata": {},
   "source": [
    "# Off-Design Missions\n",
    "\n",
    "## Overview\n",
    "\n",
    "Off-design missions are enabled for the following mission types:\n",
    "\n",
    "* height_energy (collocation)    (completed)\n",
    "* 2DOF (collocation) (complete)\n",
    "* 2DOF (shooting)    (future work)\n",
    "* height_energy (shooting)    (future work)\n",
    "\n",
    "An off-design mission can be created either by directly entering the parameters of the sized aircraft or by using the built-in functionality to run an off-design in the same script as the sizing mission.\n",
    "There are currently two types of off-design missions supported in Aviary; alternate and fallout.\n",
    "For an alternate mission, the target range of the mission and the payload mass are specified and the fuel mass required is solved for.\n",
    "Fallout missions meanwhile take the payload and fuel masses as inputs and determine the range of the aircraft.\n",
    "To create a simple off-design mission, take your input deck and add the line `settings:problem_type, fallout` or `settings:problem_type, alternate`.\n",
    "\n",
    "```{note}\n",
    "You may need to revise some of the values in your input deck for the off-design mission.\n",
    "Since the aircraft is not re-designed, it is assumed that provided inputs constitute a valid aircraft.\n",
    "```\n",
    "\n",
    "From there, the mission may be run as before."
   ]
  },
  {
   "cell_type": "markdown",
   "metadata": {},
   "source": [
    "You may also run multiple off-design missions in the same script used to solve the design mission.\n",
    "An examples of this is shown in `run_off_design_example.py`."
   ]
  },
  {
   "cell_type": "code",
   "execution_count": null,
   "metadata": {
    "tags": [
     "remove-cell"
    ]
   },
   "outputs": [],
   "source": [
    "# Testing Cell\n",
    "from aviary.utils.doctape import check_contains\n",
    "import aviary.api as av\n",
    "import os\n",
    "\n",
    "off_design_examples = av.get_path(os.path.join('examples'))\n",
    "check_contains(\n",
    "    ('run_off_design_example.py'),\n",
    "    os.listdir(off_design_examples),\n",
    "    error_string=\"{var} not in \"+str(off_design_examples),\n",
    "    error_type=FileNotFoundError)"
   ]
  }
 ],
 "metadata": {
  "kernelspec": {
   "display_name": "Python 3 (ipykernel)",
   "language": "python",
   "name": "python3"
  },
  "language_info": {
   "codemirror_mode": {
    "name": "ipython",
    "version": 3
   },
   "file_extension": ".py",
   "mimetype": "text/x-python",
   "name": "python",
   "nbconvert_exporter": "python",
   "pygments_lexer": "ipython3",
   "version": "3.11.0"
  }
 },
 "nbformat": 4,
 "nbformat_minor": 2
}
